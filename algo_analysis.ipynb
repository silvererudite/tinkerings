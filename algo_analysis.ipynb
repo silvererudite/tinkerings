{
  "nbformat": 4,
  "nbformat_minor": 0,
  "metadata": {
    "colab": {
      "name": "algo_analysis.ipynb",
      "provenance": [],
      "authorship_tag": "ABX9TyMtZ08pXuUb58aYbphQh3cr",
      "include_colab_link": true
    },
    "kernelspec": {
      "name": "python3",
      "display_name": "Python 3"
    }
  },
  "cells": [
    {
      "cell_type": "markdown",
      "metadata": {
        "id": "view-in-github",
        "colab_type": "text"
      },
      "source": [
        "<a href=\"https://colab.research.google.com/github/silvererudite/tinkerings/blob/master/algo_analysis.ipynb\" target=\"_parent\"><img src=\"https://colab.research.google.com/assets/colab-badge.svg\" alt=\"Open In Colab\"/></a>"
      ]
    },
    {
      "cell_type": "code",
      "metadata": {
        "id": "cO8nij_FkC9P",
        "colab_type": "code",
        "colab": {
          "base_uri": "https://localhost:8080/",
          "height": 35
        },
        "outputId": "d85f284f-a335-4526-b210-64eec1f130c5"
      },
      "source": [
        "#two arrays unique or not\n",
        "a=[1,5,6,7,3,5]\n",
        "b=[70,52,10,9,3,34]\n",
        "def isUnique(a,b):\n",
        "  for i in range(len(a)):\n",
        "    if a[i]==b[i]:\n",
        "      print(\"not unique\")\n",
        "      return\n",
        "  print(\"is unique\")\n",
        "  return \n",
        "isUnique(a,b)\n",
        "\n",
        "    \n",
        "    \n",
        "    \n"
      ],
      "execution_count": 2,
      "outputs": [
        {
          "output_type": "stream",
          "text": [
            "not unique\n"
          ],
          "name": "stdout"
        }
      ]
    },
    {
      "cell_type": "code",
      "metadata": {
        "id": "HZEoR40cwd9h",
        "colab_type": "code",
        "colab": {}
      },
      "source": [
        ""
      ],
      "execution_count": 0,
      "outputs": []
    }
  ]
}