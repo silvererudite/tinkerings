{
  "nbformat": 4,
  "nbformat_minor": 0,
  "metadata": {
    "colab": {
      "name": "Scraping_MAL.ipynb",
      "provenance": [],
      "authorship_tag": "ABX9TyP5vEqMXLR66e9XuaKRP77o",
      "include_colab_link": true
    },
    "kernelspec": {
      "name": "python3",
      "display_name": "Python 3"
    }
  },
  "cells": [
    {
      "cell_type": "markdown",
      "metadata": {
        "id": "view-in-github",
        "colab_type": "text"
      },
      "source": [
        "<a href=\"https://colab.research.google.com/github/silvererudite/tinkerings/blob/master/Scraping_MAL.ipynb\" target=\"_parent\"><img src=\"https://colab.research.google.com/assets/colab-badge.svg\" alt=\"Open In Colab\"/></a>"
      ]
    },
    {
      "cell_type": "code",
      "metadata": {
        "id": "ot_aRPJMo1k1",
        "colab_type": "code",
        "colab": {}
      },
      "source": [
        "import requests\n",
        "from bs4 import BeautifulSoup"
      ],
      "execution_count": null,
      "outputs": []
    },
    {
      "cell_type": "code",
      "metadata": {
        "id": "8dsxGI_9o4ei",
        "colab_type": "code",
        "colab": {
          "base_uri": "https://localhost:8080/",
          "height": 887
        },
        "outputId": "9923e5a7-ffa1-4748-ee2a-fad488e27066"
      },
      "source": [
        "r=requests.get(\"https://myanimelist.net/topmanga.php\")\n",
        "soup=BeautifulSoup(r.text,\"html.parser\")\n",
        "manga_list=soup.findAll(\"a\", {\"class\": \"fs14\"})\n"
      ],
      "execution_count": null,
      "outputs": [
        {
          "output_type": "execute_result",
          "data": {
            "text/plain": [
              "[<a class=\"hoverinfo_trigger fs14 fw-b\" href=\"https://myanimelist.net/manga/2/Berserk\" id=\"#area2\" rel=\"#info2\">Berserk</a>,\n",
              " <a class=\"hoverinfo_trigger fs14 fw-b\" href=\"https://myanimelist.net/manga/1706/JoJo_no_Kimyou_na_Bouken_Part_7__Steel_Ball_Run\" id=\"#area1706\" rel=\"#info1706\">JoJo no Kimyou na Bouken Part 7: Steel Ball Run</a>,\n",
              " <a class=\"hoverinfo_trigger fs14 fw-b\" href=\"https://myanimelist.net/manga/25/Fullmetal_Alchemist\" id=\"#area25\" rel=\"#info25\">Fullmetal Alchemist</a>,\n",
              " <a class=\"hoverinfo_trigger fs14 fw-b\" href=\"https://myanimelist.net/manga/13/One_Piece\" id=\"#area13\" rel=\"#info13\">One Piece</a>,\n",
              " <a class=\"hoverinfo_trigger fs14 fw-b\" href=\"https://myanimelist.net/manga/1/Monster\" id=\"#area1\" rel=\"#info1\">Monster</a>,\n",
              " <a class=\"hoverinfo_trigger fs14 fw-b\" href=\"https://myanimelist.net/manga/656/Vagabond\" id=\"#area656\" rel=\"#info656\">Vagabond</a>,\n",
              " <a class=\"hoverinfo_trigger fs14 fw-b\" href=\"https://myanimelist.net/manga/4632/Oyasumi_Punpun\" id=\"#area4632\" rel=\"#info4632\">Oyasumi Punpun</a>,\n",
              " <a class=\"hoverinfo_trigger fs14 fw-b\" href=\"https://myanimelist.net/manga/16765/Kingdom\" id=\"#area16765\" rel=\"#info16765\">Kingdom</a>,\n",
              " <a class=\"hoverinfo_trigger fs14 fw-b\" href=\"https://myanimelist.net/manga/70345/Grand_Blue\" id=\"#area70345\" rel=\"#info70345\">Grand Blue</a>,\n",
              " <a class=\"hoverinfo_trigger fs14 fw-b\" href=\"https://myanimelist.net/manga/51/Slam_Dunk\" id=\"#area51\" rel=\"#info51\">Slam Dunk</a>,\n",
              " <a class=\"hoverinfo_trigger fs14 fw-b\" href=\"https://myanimelist.net/manga/3/20th_Century_Boys\" id=\"#area3\" rel=\"#info3\">20th Century Boys</a>,\n",
              " <a class=\"hoverinfo_trigger fs14 fw-b\" href=\"https://myanimelist.net/manga/14893/Monogatari_Series__First_Season\" id=\"#area14893\" rel=\"#info14893\">Monogatari Series: First Season</a>,\n",
              " <a class=\"hoverinfo_trigger fs14 fw-b\" href=\"https://myanimelist.net/manga/90125/Kaguya-sama_wa_Kokurasetai__Tensai-tachi_no_Renai_Zunousen\" id=\"#area90125\" rel=\"#info90125\">Kaguya-sama wa Kokurasetai: Tensai-tachi no Renai Zunousen</a>,\n",
              " <a class=\"hoverinfo_trigger fs14 fw-b\" href=\"https://myanimelist.net/manga/121496/Solo_Leveling\" id=\"#area121496\" rel=\"#info121496\">Solo Leveling</a>,\n",
              " <a class=\"hoverinfo_trigger fs14 fw-b\" href=\"https://myanimelist.net/manga/40171/Yahari_Ore_no_Seishun_Love_Comedy_wa_Machigatteiru\" id=\"#area40171\" rel=\"#info40171\">Yahari Ore no Seishun Love Comedy wa Machigatteiru.</a>,\n",
              " <a class=\"hoverinfo_trigger fs14 fw-b\" href=\"https://myanimelist.net/manga/91941/Made_in_Abyss\" id=\"#area91941\" rel=\"#info91941\">Made in Abyss</a>,\n",
              " <a class=\"hoverinfo_trigger fs14 fw-b\" href=\"https://myanimelist.net/manga/336/GTO\" id=\"#area336\" rel=\"#info336\">GTO</a>,\n",
              " <a class=\"hoverinfo_trigger fs14 fw-b\" href=\"https://myanimelist.net/manga/9115/Ookami_to_Koushinryou\" id=\"#area9115\" rel=\"#info9115\">Ookami to Koushinryou</a>,\n",
              " <a class=\"hoverinfo_trigger fs14 fw-b\" href=\"https://myanimelist.net/manga/642/Vinland_Saga\" id=\"#area642\" rel=\"#info642\">Vinland Saga</a>,\n",
              " <a class=\"hoverinfo_trigger fs14 fw-b\" href=\"https://myanimelist.net/manga/23751/Monogatari_Series__Second_Season\" id=\"#area23751\" rel=\"#info23751\">Monogatari Series: Second Season</a>,\n",
              " <a class=\"hoverinfo_trigger fs14 fw-b\" href=\"https://myanimelist.net/manga/35243/Haikyuu\" id=\"#area35243\" rel=\"#info35243\">Haikyuu!!</a>,\n",
              " <a class=\"hoverinfo_trigger fs14 fw-b\" href=\"https://myanimelist.net/manga/104/Yotsuba_to\" id=\"#area104\" rel=\"#info104\">Yotsuba to!</a>,\n",
              " <a class=\"hoverinfo_trigger fs14 fw-b\" href=\"https://myanimelist.net/manga/651/Kaze_no_Tani_no_Nausicaä\" id=\"#area651\" rel=\"#info651\">Kaze no Tani no Nausicaä</a>,\n",
              " <a class=\"hoverinfo_trigger fs14 fw-b\" href=\"https://myanimelist.net/manga/56805/Koe_no_Katachi\" id=\"#area56805\" rel=\"#info56805\">Koe no Katachi</a>,\n",
              " <a class=\"hoverinfo_trigger fs14 fw-b\" href=\"https://myanimelist.net/manga/21525/Akatsuki_no_Yona\" id=\"#area21525\" rel=\"#info21525\">Akatsuki no Yona</a>,\n",
              " <a class=\"hoverinfo_trigger fs14 fw-b\" href=\"https://myanimelist.net/manga/1303/Ashita_no_Joe\" id=\"#area1303\" rel=\"#info1303\">Ashita no Joe</a>,\n",
              " <a class=\"hoverinfo_trigger fs14 fw-b\" href=\"https://myanimelist.net/manga/14483/Uchuu_Kyoudai\" id=\"#area14483\" rel=\"#info14483\">Uchuu Kyoudai</a>,\n",
              " <a class=\"hoverinfo_trigger fs14 fw-b\" href=\"https://myanimelist.net/manga/55215/Utsuro_no_Hako_to_Zero_no_Maria\" id=\"#area55215\" rel=\"#info55215\">Utsuro no Hako to Zero no Maria</a>,\n",
              " <a class=\"hoverinfo_trigger fs14 fw-b\" href=\"https://myanimelist.net/manga/1224/3-gatsu_no_Lion\" id=\"#area1224\" rel=\"#info1224\">3-gatsu no Lion</a>,\n",
              " <a class=\"hoverinfo_trigger fs14 fw-b\" href=\"https://myanimelist.net/manga/44227/Monogatari_Series__Final_Season\" id=\"#area44227\" rel=\"#info44227\">Monogatari Series: Final Season</a>,\n",
              " <a class=\"hoverinfo_trigger fs14 fw-b\" href=\"https://myanimelist.net/manga/44347/One_Punch-Man\" id=\"#area44347\" rel=\"#info44347\">One Punch-Man</a>,\n",
              " <a class=\"hoverinfo_trigger fs14 fw-b\" href=\"https://myanimelist.net/manga/44489/Houseki_no_Kuni\" id=\"#area44489\" rel=\"#info44489\">Houseki no Kuni</a>,\n",
              " <a class=\"hoverinfo_trigger fs14 fw-b\" href=\"https://myanimelist.net/manga/418/Mushishi\" id=\"#area418\" rel=\"#info418\">Mushishi</a>,\n",
              " <a class=\"hoverinfo_trigger fs14 fw-b\" href=\"https://myanimelist.net/manga/4/Yokohama_Kaidashi_Kikou\" id=\"#area4\" rel=\"#info4\">Yokohama Kaidashi Kikou</a>,\n",
              " <a class=\"hoverinfo_trigger fs14 fw-b\" href=\"https://myanimelist.net/manga/21/Death_Note\" id=\"#area21\" rel=\"#info21\">Death Note</a>,\n",
              " <a class=\"hoverinfo_trigger fs14 fw-b\" href=\"https://myanimelist.net/manga/657/Real\" id=\"#area657\" rel=\"#info657\">Real</a>,\n",
              " <a class=\"hoverinfo_trigger fs14 fw-b\" href=\"https://myanimelist.net/manga/1859/Natsume_Yuujinchou\" id=\"#area1859\" rel=\"#info1859\">Natsume Yuujinchou</a>,\n",
              " <a class=\"hoverinfo_trigger fs14 fw-b\" href=\"https://myanimelist.net/manga/81669/Overlord\" id=\"#area81669\" rel=\"#info81669\">Overlord</a>,\n",
              " <a class=\"hoverinfo_trigger fs14 fw-b\" href=\"https://myanimelist.net/manga/664/Akira\" id=\"#area664\" rel=\"#info664\">Akira</a>,\n",
              " <a class=\"hoverinfo_trigger fs14 fw-b\" href=\"https://myanimelist.net/manga/122663/Tower_of_God\" id=\"#area122663\" rel=\"#info122663\">Tower of God</a>,\n",
              " <a class=\"hoverinfo_trigger fs14 fw-b\" href=\"https://myanimelist.net/manga/100448/Jumyou_wo_Kaitotte_Moratta_Ichinen_ni_Tsuki_Ichimanen_de\" id=\"#area100448\" rel=\"#info100448\">Jumyou wo Kaitotte Moratta. Ichinen ni Tsuki, Ichimanen de.</a>,\n",
              " <a class=\"hoverinfo_trigger fs14 fw-b\" href=\"https://myanimelist.net/manga/89357/Youkoso_Jitsuryoku_Shijou_Shugi_no_Kyoushitsu_e\" id=\"#area89357\" rel=\"#info89357\">Youkoso Jitsuryoku Shijou Shugi no Kyoushitsu e</a>,\n",
              " <a class=\"hoverinfo_trigger fs14 fw-b\" href=\"https://myanimelist.net/manga/28/Nana\" id=\"#area28\" rel=\"#info28\">Nana</a>,\n",
              " <a class=\"hoverinfo_trigger fs14 fw-b\" href=\"https://myanimelist.net/manga/26/Hunter_x_Hunter\" id=\"#area26\" rel=\"#info26\">Hunter x Hunter</a>,\n",
              " <a class=\"hoverinfo_trigger fs14 fw-b\" href=\"https://myanimelist.net/manga/7/Hajime_no_Ippo\" id=\"#area7\" rel=\"#info7\">Hajime no Ippo</a>,\n",
              " <a class=\"hoverinfo_trigger fs14 fw-b\" href=\"https://myanimelist.net/manga/145/Beck\" id=\"#area145\" rel=\"#info145\">Beck</a>,\n",
              " <a class=\"hoverinfo_trigger fs14 fw-b\" href=\"https://myanimelist.net/manga/11734/Watashitachi_no_Shiawase_na_Jikan\" id=\"#area11734\" rel=\"#info11734\">Watashitachi no Shiawase na Jikan</a>,\n",
              " <a class=\"hoverinfo_trigger fs14 fw-b\" href=\"https://myanimelist.net/manga/78523/ReLIFE\" id=\"#area78523\" rel=\"#info78523\">ReLIFE</a>,\n",
              " <a class=\"hoverinfo_trigger fs14 fw-b\" href=\"https://myanimelist.net/manga/24875/Shinyaku_Toaru_Majutsu_no_Index\" id=\"#area24875\" rel=\"#info24875\">Shinyaku Toaru Majutsu no Index</a>,\n",
              " <a class=\"hoverinfo_trigger fs14 fw-b\" href=\"https://myanimelist.net/manga/121269/Who_Made_Me_a_Princess\" id=\"#area121269\" rel=\"#info121269\">Who Made Me a Princess</a>]"
            ]
          },
          "metadata": {
            "tags": []
          },
          "execution_count": 15
        }
      ]
    },
    {
      "cell_type": "code",
      "metadata": {
        "id": "mxvi-sK7rBfo",
        "colab_type": "code",
        "colab": {}
      },
      "source": [
        ""
      ],
      "execution_count": null,
      "outputs": []
    }
  ]
}