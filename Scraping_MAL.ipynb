{
  "nbformat": 4,
  "nbformat_minor": 0,
  "metadata": {
    "colab": {
      "name": "Scraping_MAL.ipynb",
      "provenance": [],
      "collapsed_sections": [],
      "authorship_tag": "ABX9TyNKhJO4SZP635j+1P3i3qgN",
      "include_colab_link": true
    },
    "kernelspec": {
      "name": "python3",
      "display_name": "Python 3"
    }
  },
  "cells": [
    {
      "cell_type": "markdown",
      "metadata": {
        "id": "view-in-github",
        "colab_type": "text"
      },
      "source": [
        "<a href=\"https://colab.research.google.com/github/silvererudite/tinkerings/blob/master/Scraping_MAL.ipynb\" target=\"_parent\"><img src=\"https://colab.research.google.com/assets/colab-badge.svg\" alt=\"Open In Colab\"/></a>"
      ]
    },
    {
      "cell_type": "code",
      "metadata": {
        "id": "ot_aRPJMo1k1",
        "colab_type": "code",
        "colab": {}
      },
      "source": [
        "import requests\n",
        "import json\n",
        "from bs4 import BeautifulSoup"
      ],
      "execution_count": 16,
      "outputs": []
    },
    {
      "cell_type": "code",
      "metadata": {
        "id": "8dsxGI_9o4ei",
        "colab_type": "code",
        "colab": {}
      },
      "source": [
        "r=requests.get(\"https://myanimelist.net/topmanga.php\")\n",
        "soup=BeautifulSoup(r.text,\"html.parser\")\n",
        "manga_soup=soup.findAll(\"a\", {\"class\": \"fs14\"})\n"
      ],
      "execution_count": 17,
      "outputs": []
    },
    {
      "cell_type": "markdown",
      "metadata": {
        "id": "i0CLC9ZbUdgn",
        "colab_type": "text"
      },
      "source": [
        "Convert this list to json for using JS on it to display on webpage"
      ]
    },
    {
      "cell_type": "code",
      "metadata": {
        "id": "ycqtmVSxEtyO",
        "colab_type": "code",
        "colab": {
          "base_uri": "https://localhost:8080/",
          "height": 34
        },
        "outputId": "6aaefd7e-f2f5-4b15-c996-297770f0dcd3"
      },
      "source": [
        "type(manga_soup)"
      ],
      "execution_count": 18,
      "outputs": [
        {
          "output_type": "execute_result",
          "data": {
            "text/plain": [
              "bs4.element.ResultSet"
            ]
          },
          "metadata": {
            "tags": []
          },
          "execution_count": 18
        }
      ]
    },
    {
      "cell_type": "code",
      "metadata": {
        "id": "3vb6U9j8FLKM",
        "colab_type": "code",
        "colab": {
          "base_uri": "https://localhost:8080/",
          "height": 34
        },
        "outputId": "d1090d14-9eaf-47f0-de03-8414f01b206c"
      },
      "source": [
        "len(manga_soup)"
      ],
      "execution_count": 19,
      "outputs": [
        {
          "output_type": "execute_result",
          "data": {
            "text/plain": [
              "50"
            ]
          },
          "metadata": {
            "tags": []
          },
          "execution_count": 19
        }
      ]
    },
    {
      "cell_type": "code",
      "metadata": {
        "id": "4f6XyhpbGzc_",
        "colab_type": "code",
        "colab": {
          "base_uri": "https://localhost:8080/",
          "height": 34
        },
        "outputId": "1a1e11b5-d9f6-4e14-ef56-c75b85cf42c6"
      },
      "source": [
        "manga_soup[0]"
      ],
      "execution_count": 20,
      "outputs": [
        {
          "output_type": "execute_result",
          "data": {
            "text/plain": [
              "<a class=\"hoverinfo_trigger fs14 fw-b\" href=\"https://myanimelist.net/manga/2/Berserk\" id=\"#area2\" rel=\"#info2\">Berserk</a>"
            ]
          },
          "metadata": {
            "tags": []
          },
          "execution_count": 20
        }
      ]
    },
    {
      "cell_type": "code",
      "metadata": {
        "id": "Ihp7mDCIIM-U",
        "colab_type": "code",
        "colab": {
          "base_uri": "https://localhost:8080/",
          "height": 867
        },
        "outputId": "d76bc01d-780c-44eb-937c-48bf30982bd8"
      },
      "source": [
        "for a in manga_soup:\n",
        "  print(a['href'])\n",
        "\n"
      ],
      "execution_count": 33,
      "outputs": [
        {
          "output_type": "stream",
          "text": [
            "https://myanimelist.net/manga/2/Berserk\n",
            "https://myanimelist.net/manga/1706/JoJo_no_Kimyou_na_Bouken_Part_7__Steel_Ball_Run\n",
            "https://myanimelist.net/manga/25/Fullmetal_Alchemist\n",
            "https://myanimelist.net/manga/13/One_Piece\n",
            "https://myanimelist.net/manga/1/Monster\n",
            "https://myanimelist.net/manga/656/Vagabond\n",
            "https://myanimelist.net/manga/4632/Oyasumi_Punpun\n",
            "https://myanimelist.net/manga/16765/Kingdom\n",
            "https://myanimelist.net/manga/70345/Grand_Blue\n",
            "https://myanimelist.net/manga/51/Slam_Dunk\n",
            "https://myanimelist.net/manga/3/20th_Century_Boys\n",
            "https://myanimelist.net/manga/14893/Monogatari_Series__First_Season\n",
            "https://myanimelist.net/manga/90125/Kaguya-sama_wa_Kokurasetai__Tensai-tachi_no_Renai_Zunousen\n",
            "https://myanimelist.net/manga/121496/Solo_Leveling\n",
            "https://myanimelist.net/manga/40171/Yahari_Ore_no_Seishun_Love_Comedy_wa_Machigatteiru\n",
            "https://myanimelist.net/manga/91941/Made_in_Abyss\n",
            "https://myanimelist.net/manga/336/GTO\n",
            "https://myanimelist.net/manga/9115/Ookami_to_Koushinryou\n",
            "https://myanimelist.net/manga/642/Vinland_Saga\n",
            "https://myanimelist.net/manga/23751/Monogatari_Series__Second_Season\n",
            "https://myanimelist.net/manga/35243/Haikyuu\n",
            "https://myanimelist.net/manga/104/Yotsuba_to\n",
            "https://myanimelist.net/manga/651/Kaze_no_Tani_no_Nausicaä\n",
            "https://myanimelist.net/manga/56805/Koe_no_Katachi\n",
            "https://myanimelist.net/manga/21525/Akatsuki_no_Yona\n",
            "https://myanimelist.net/manga/1303/Ashita_no_Joe\n",
            "https://myanimelist.net/manga/14483/Uchuu_Kyoudai\n",
            "https://myanimelist.net/manga/55215/Utsuro_no_Hako_to_Zero_no_Maria\n",
            "https://myanimelist.net/manga/1224/3-gatsu_no_Lion\n",
            "https://myanimelist.net/manga/44227/Monogatari_Series__Final_Season\n",
            "https://myanimelist.net/manga/44347/One_Punch-Man\n",
            "https://myanimelist.net/manga/44489/Houseki_no_Kuni\n",
            "https://myanimelist.net/manga/418/Mushishi\n",
            "https://myanimelist.net/manga/4/Yokohama_Kaidashi_Kikou\n",
            "https://myanimelist.net/manga/21/Death_Note\n",
            "https://myanimelist.net/manga/657/Real\n",
            "https://myanimelist.net/manga/1859/Natsume_Yuujinchou\n",
            "https://myanimelist.net/manga/81669/Overlord\n",
            "https://myanimelist.net/manga/664/Akira\n",
            "https://myanimelist.net/manga/122663/Tower_of_God\n",
            "https://myanimelist.net/manga/100448/Jumyou_wo_Kaitotte_Moratta_Ichinen_ni_Tsuki_Ichimanen_de\n",
            "https://myanimelist.net/manga/89357/Youkoso_Jitsuryoku_Shijou_Shugi_no_Kyoushitsu_e\n",
            "https://myanimelist.net/manga/28/Nana\n",
            "https://myanimelist.net/manga/26/Hunter_x_Hunter\n",
            "https://myanimelist.net/manga/7/Hajime_no_Ippo\n",
            "https://myanimelist.net/manga/145/Beck\n",
            "https://myanimelist.net/manga/11734/Watashitachi_no_Shiawase_na_Jikan\n",
            "https://myanimelist.net/manga/78523/ReLIFE\n",
            "https://myanimelist.net/manga/24875/Shinyaku_Toaru_Majutsu_no_Index\n",
            "https://myanimelist.net/manga/121269/Who_Made_Me_a_Princess\n"
          ],
          "name": "stdout"
        }
      ]
    },
    {
      "cell_type": "code",
      "metadata": {
        "id": "pNo2lbdDIVKi",
        "colab_type": "code",
        "colab": {
          "base_uri": "https://localhost:8080/",
          "height": 867
        },
        "outputId": "be083263-ea53-44cd-aadf-d0fbbcd76ed6"
      },
      "source": [
        "for a in manga_soup:\n",
        "  print(a.text)"
      ],
      "execution_count": 34,
      "outputs": [
        {
          "output_type": "stream",
          "text": [
            "Berserk\n",
            "JoJo no Kimyou na Bouken Part 7: Steel Ball Run\n",
            "Fullmetal Alchemist\n",
            "One Piece\n",
            "Monster\n",
            "Vagabond\n",
            "Oyasumi Punpun\n",
            "Kingdom\n",
            "Grand Blue\n",
            "Slam Dunk\n",
            "20th Century Boys\n",
            "Monogatari Series: First Season\n",
            "Kaguya-sama wa Kokurasetai: Tensai-tachi no Renai Zunousen\n",
            "Solo Leveling\n",
            "Yahari Ore no Seishun Love Comedy wa Machigatteiru.\n",
            "Made in Abyss\n",
            "GTO\n",
            "Ookami to Koushinryou\n",
            "Vinland Saga\n",
            "Monogatari Series: Second Season\n",
            "Haikyuu!!\n",
            "Yotsuba to!\n",
            "Kaze no Tani no Nausicaä\n",
            "Koe no Katachi\n",
            "Akatsuki no Yona\n",
            "Ashita no Joe\n",
            "Uchuu Kyoudai\n",
            "Utsuro no Hako to Zero no Maria\n",
            "3-gatsu no Lion\n",
            "Monogatari Series: Final Season\n",
            "One Punch-Man\n",
            "Houseki no Kuni\n",
            "Mushishi\n",
            "Yokohama Kaidashi Kikou\n",
            "Death Note\n",
            "Real\n",
            "Natsume Yuujinchou\n",
            "Overlord\n",
            "Akira\n",
            "Tower of God\n",
            "Jumyou wo Kaitotte Moratta. Ichinen ni Tsuki, Ichimanen de.\n",
            "Youkoso Jitsuryoku Shijou Shugi no Kyoushitsu e\n",
            "Nana\n",
            "Hunter x Hunter\n",
            "Hajime no Ippo\n",
            "Beck\n",
            "Watashitachi no Shiawase na Jikan\n",
            "ReLIFE\n",
            "Shinyaku Toaru Majutsu no Index\n",
            "Who Made Me a Princess\n"
          ],
          "name": "stdout"
        }
      ]
    },
    {
      "cell_type": "code",
      "metadata": {
        "id": "Cx86iFf0LzVM",
        "colab_type": "code",
        "colab": {}
      },
      "source": [
        ""
      ],
      "execution_count": null,
      "outputs": []
    }
  ]
}